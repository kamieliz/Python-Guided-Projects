{
  "cells": [
    {
      "cell_type": "markdown",
      "metadata": {
        "id": "IEVDz-Ow5yDD"
      },
      "source": [
        "# Exploring Hacker News Posts\n",
        "In this project, I am working with a data set of submissions to popular technology site [Hacker News](https://news.ycombinator.com/). Hacker News is a site started by the startup incubator [Y Combinator](https://www.ycombinator.com/), where user-submitted stories are voted and commented upon similar to reddit. Posts that make it to the top of Hacker News' listings can get hundreds of thousands of visitors as a result. \n",
        "\n",
        "I'm specifically interested in posts whose titles begin with either `Ask HN` or `Show HN`. Users submit `Ask HN` posts to ask the Hacker News community a specific question. Likewise, users submit `Show HN` posts to show the community a project, product, or just generally something interesting.\n",
        "\n",
        "I am comparing these two types of posts to determine the following: \n",
        "- Do `Ask HN` or `Show HN` receive more comments on average\n",
        "- Do posts created at a certain time receive more comments on average?\n",
        "\n",
        "I want to start by importing the libraries we need and reading the data set into a list of lists."
      ]
    },
    {
      "cell_type": "code",
      "execution_count": 2,
      "metadata": {
        "id": "6Mlykd7L5yDF",
        "outputId": "b86cd540-49ac-49df-e44f-243fa5f00ec3",
        "colab": {
          "base_uri": "https://localhost:8080/"
        }
      },
      "outputs": [
        {
          "output_type": "stream",
          "name": "stdout",
          "text": [
            "[['id', 'title', 'url', 'num_points', 'num_comments', 'author', 'created_at'], ['12224879', 'Interactive Dynamic Video', 'http://www.interactivedynamicvideo.com/', '386', '52', 'ne0phyte', '8/4/2016 11:52'], ['10975351', 'How to Use Open Source and Shut the Fuck Up at the Same Time', 'http://hueniverse.com/2016/01/26/how-to-use-open-source-and-shut-the-fuck-up-at-the-same-time/', '39', '10', 'josep2', '1/26/2016 19:30'], ['11964716', \"Florida DJs May Face Felony for April Fools' Water Joke\", 'http://www.thewire.com/entertainment/2013/04/florida-djs-april-fools-water-joke/63798/', '2', '1', 'vezycash', '6/23/2016 22:20'], ['11919867', 'Technology ventures: From Idea to Enterprise', 'https://www.amazon.com/Technology-Ventures-Enterprise-Thomas-Byers/dp/0073523429', '3', '1', 'hswarna', '6/17/2016 0:01']]\n"
          ]
        }
      ],
      "source": [
        "# import the reader function from the csv module\n",
        "from csv import reader\n",
        "\n",
        "# use the built-in function open() to open the file\n",
        "opened_file = open('hacker_news.csv')\n",
        "\n",
        "# use csv.reader() to parse the data from opened file\n",
        "read_file = reader(opened_file)\n",
        "\n",
        "#use list() to convert the read file into a list of lists format\n",
        "hn = list(read_file)\n",
        "\n",
        "#close the opened file\n",
        "opened_file.close()\n",
        "\n",
        "# display the first five rows\n",
        "print(hn[0:5])"
      ]
    },
    {
      "cell_type": "markdown",
      "metadata": {
        "id": "LOnfT87n5yDI"
      },
      "source": [
        "# Removing Headers from a List of Lists\n",
        "The first list in the inner list contains the column headers, and the lists after contain the data for one row. I need to remove the row containing the column headers to analyze the data. \n",
        "\n",
        "I want to extract the first row of data and assign it to the variable `headers`. Remove the first row from `hn`. Then I want to display the header and then the first five rows of `hn`."
      ]
    },
    {
      "cell_type": "code",
      "execution_count": 3,
      "metadata": {
        "id": "ty_VfjKv5yDI",
        "outputId": "d678e955-3b8c-412c-911f-5429f27f37c9",
        "colab": {
          "base_uri": "https://localhost:8080/"
        }
      },
      "outputs": [
        {
          "output_type": "stream",
          "name": "stdout",
          "text": [
            "['id', 'title', 'url', 'num_points', 'num_comments', 'author', 'created_at']\n",
            "[['12224879', 'Interactive Dynamic Video', 'http://www.interactivedynamicvideo.com/', '386', '52', 'ne0phyte', '8/4/2016 11:52'], ['10975351', 'How to Use Open Source and Shut the Fuck Up at the Same Time', 'http://hueniverse.com/2016/01/26/how-to-use-open-source-and-shut-the-fuck-up-at-the-same-time/', '39', '10', 'josep2', '1/26/2016 19:30'], ['11964716', \"Florida DJs May Face Felony for April Fools' Water Joke\", 'http://www.thewire.com/entertainment/2013/04/florida-djs-april-fools-water-joke/63798/', '2', '1', 'vezycash', '6/23/2016 22:20'], ['11919867', 'Technology ventures: From Idea to Enterprise', 'https://www.amazon.com/Technology-Ventures-Enterprise-Thomas-Byers/dp/0073523429', '3', '1', 'hswarna', '6/17/2016 0:01'], ['10301696', 'Note by Note: The Making of Steinway L1037 (2007)', 'http://www.nytimes.com/2007/11/07/movies/07stein.html?_r=0', '8', '2', 'walterbell', '9/30/2015 4:12']]\n"
          ]
        }
      ],
      "source": [
        "headers = hn[0]\n",
        "hn = hn[1:]\n",
        "print(headers)\n",
        "print(hn[0:5])"
      ]
    },
    {
      "cell_type": "markdown",
      "metadata": {
        "id": "chwblVqD5yDJ"
      },
      "source": [
        "# Extracting Ask HN and Show HN Posts\n",
        "Now that I've removed the headers from `hn`, we're ready to filter our data. Since I'm only concerned with post titles beginning with `Ask HN` or `Show HN`, I want to create new lists of lists just containing the data for those titles.\n",
        "\n",
        "To find posts that begin with either `Ask HN` or `Show HN`, I will use the string method `startswith`. Given a string object, I can check if it starts with `Ask HN` or `Show HN`. If it starts with the key word, it will return `True`, otherwise it will return `False`. I also need to control for case and convert the string to lowercase.\n",
        "\n",
        "To do this I will begin by creating three empty lists and then looping through `hn` identifying posts that meet my criteria and sorting them into their matching list."
      ]
    },
    {
      "cell_type": "code",
      "execution_count": 4,
      "metadata": {
        "id": "9CoCQv4e5yDK",
        "outputId": "fd855476-6e50-4d40-8912-c2eafad37459",
        "colab": {
          "base_uri": "https://localhost:8080/"
        }
      },
      "outputs": [
        {
          "output_type": "stream",
          "name": "stdout",
          "text": [
            "1744\n",
            "1162\n",
            "17194\n"
          ]
        }
      ],
      "source": [
        "ask_posts = []\n",
        "show_posts = []\n",
        "other_posts = []\n",
        "\n",
        "for row in hn:\n",
        "    title = row[1]\n",
        "    if (title.lower()).startswith('ask hn'):\n",
        "        ask_posts.append(row)\n",
        "    elif (title.lower()).startswith('show hn'):\n",
        "        show_posts.append(row)\n",
        "    else:\n",
        "        other_posts.append(row)\n",
        "\n",
        "# Checking number of posts in each list\n",
        "print(len(ask_posts))\n",
        "print(len(show_posts))\n",
        "print(len(other_posts))"
      ]
    },
    {
      "cell_type": "markdown",
      "metadata": {
        "id": "6fiO_hnK5yDM"
      },
      "source": [
        "# Calculating the Average Number of Comments \n",
        "Now that I have separated the ask posts and the show posts into two lists of lists. Next, I want to determine if ask posts or show posts receive more comments on average.\n",
        "\n",
        "First I want to find the total number of comments in ask posts and then calculate the average number of comments for that list."
      ]
    },
    {
      "cell_type": "code",
      "execution_count": 5,
      "metadata": {
        "id": "xG3bnU615yDO",
        "outputId": "3a6f042b-ef0c-493c-85ee-882ff9e98360",
        "colab": {
          "base_uri": "https://localhost:8080/"
        }
      },
      "outputs": [
        {
          "output_type": "stream",
          "name": "stdout",
          "text": [
            "14.038417431192661\n"
          ]
        }
      ],
      "source": [
        "total_ask_comments = 0\n",
        "count = 0\n",
        "for row in ask_posts:\n",
        "    total_ask_comments += int(row[4])\n",
        "    count += 1\n",
        "avg_ask_comments = total_ask_comments / count\n",
        "print(avg_ask_comments)\n"
      ]
    },
    {
      "cell_type": "markdown",
      "metadata": {
        "id": "zffe0p8n5yDP"
      },
      "source": [
        "Next I want to figure out the average comments for show posts and then calculate the average of those comments to determine which type of article receives the more comments on average."
      ]
    },
    {
      "cell_type": "code",
      "execution_count": 6,
      "metadata": {
        "id": "-VQ55p8d5yDQ",
        "outputId": "1df54ab5-026d-47e0-fca1-52056a9a86ea",
        "colab": {
          "base_uri": "https://localhost:8080/"
        }
      },
      "outputs": [
        {
          "output_type": "stream",
          "name": "stdout",
          "text": [
            "10.31669535283993\n"
          ]
        }
      ],
      "source": [
        "total_show_comments = 0\n",
        "count = 0\n",
        "for row in show_posts:\n",
        "    total_show_comments += int(row[4])\n",
        "    count += 1\n",
        "avg_show_comments = total_show_comments / count\n",
        "print(avg_show_comments)"
      ]
    },
    {
      "cell_type": "markdown",
      "metadata": {
        "id": "-ueccYn_5yDR"
      },
      "source": [
        "Based on these two calculations it appears that `Ask HN` posts receive more comments on average than `Show HN` posts."
      ]
    },
    {
      "cell_type": "markdown",
      "metadata": {
        "id": "7x9iyyv45yDR"
      },
      "source": [
        "# Finding the Amount of Ask Posts and Comments by Hour Created\n",
        "I determined that on average, ask posts receive more comments than show posts. Becuase of this I want to focus my remaining analysis on just these posts.\n",
        "\n",
        "Now I want to determine if asks posts created at a certain time are more likely to attract comments. There are two steps to performing this analysis\n",
        "1. calculate the amount of ask posts created in each hour of the day, along with the number of comments received\n",
        "2. Calculate the average number of comments ask posts receive by hour created\n",
        "\n",
        "First I want to calucate the ask posts and comments by the hours. To do this I will use the `datetime` module to work with the data in the `created_at` column"
      ]
    },
    {
      "cell_type": "code",
      "execution_count": 7,
      "metadata": {
        "id": "QyIx8b1B5yDS"
      },
      "outputs": [],
      "source": [
        "#import datetime module as dt\n",
        "import datetime as dt\n",
        "\n",
        "#create an empty list\n",
        "result_list = []\n",
        "\n",
        "#iterate over ask_posts and append to result_list\n",
        "for row in ask_posts:\n",
        "    created_at = row[6]\n",
        "    comments = int(row[4])\n",
        "    result = [created_at,comments]\n",
        "    result_list.append(result)\n",
        "    \n",
        "#create two empty dictionaries\n",
        "counts_by_hour = {}\n",
        "comments_by_hour = {}\n",
        "\n",
        "#loop through each row of result_list\n",
        "for row in result_list:\n",
        "    num_comment = row[1]\n",
        "    create_time = dt.datetime.strptime(row[0],\"%m/%d/%Y %H:%M\")\n",
        "    hour = create_time.strftime(\"%H\")\n",
        "    if hour not in counts_by_hour:\n",
        "        counts_by_hour[hour] = 1\n",
        "        comments_by_hour[hour] = num_comment\n",
        "    else:\n",
        "        counts_by_hour[hour] += 1\n",
        "        comments_by_hour[hour] += num_comment\n",
        "            "
      ]
    },
    {
      "cell_type": "markdown",
      "metadata": {
        "id": "a1ouodoO5yDS"
      },
      "source": [
        "# Calculating Average Number of Comments by Hour\n",
        "Now that I have created two dictionaries:\n",
        "- `counts_by_hour`: contains the number of ask posts created during each hour day\n",
        "- `comments_by_hour`: contains the corresponding number of comments ask posts created at each hour received\n",
        "\n",
        "Next I want to use these dictionaries to calculate the average number of comments for posts created during each hour of the day"
      ]
    },
    {
      "cell_type": "code",
      "execution_count": 8,
      "metadata": {
        "id": "yf_sgoxp5yDT",
        "outputId": "e25c0266-582d-4687-ba3d-7bb7494aea47",
        "colab": {
          "base_uri": "https://localhost:8080/"
        }
      },
      "outputs": [
        {
          "output_type": "stream",
          "name": "stdout",
          "text": [
            "[['09', 5.5777777777777775], ['13', 14.741176470588234], ['10', 13.440677966101696], ['14', 13.233644859813085], ['16', 16.796296296296298], ['23', 7.985294117647059], ['12', 9.41095890410959], ['17', 11.46], ['15', 38.5948275862069], ['21', 16.009174311926607], ['20', 21.525], ['02', 23.810344827586206], ['18', 13.20183486238532], ['03', 7.796296296296297], ['05', 10.08695652173913], ['19', 10.8], ['01', 11.383333333333333], ['22', 6.746478873239437], ['08', 10.25], ['04', 7.170212765957447], ['00', 8.127272727272727], ['06', 9.022727272727273], ['07', 7.852941176470588], ['11', 11.051724137931034]]\n"
          ]
        }
      ],
      "source": [
        "#create an empty list\n",
        "avg_by_hour = []\n",
        "\n",
        "#iterate over the comments_by_hour dictionary\n",
        "for row in comments_by_hour:\n",
        "    average = comments_by_hour[row] / counts_by_hour[row]\n",
        "    avg_by_hour.append([row, average])\n",
        "    \n",
        "#display the list\n",
        "print(avg_by_hour)"
      ]
    },
    {
      "cell_type": "markdown",
      "metadata": {
        "id": "4rUget3x5yDU"
      },
      "source": [
        "# Sorting and Printing Values\n",
        "The format of the current results makes it hard to identify the hours with the highest values. I want to finish by sorting the list of lists and printing the five highest values in a format that's easier to read"
      ]
    },
    {
      "cell_type": "code",
      "execution_count": 9,
      "metadata": {
        "id": "V0e3X6pD5yDU",
        "outputId": "96bb18c2-e61b-42df-aaaf-a3eea8b4256f",
        "colab": {
          "base_uri": "https://localhost:8080/"
        }
      },
      "outputs": [
        {
          "output_type": "stream",
          "name": "stdout",
          "text": [
            "[[5.5777777777777775, '09'], [14.741176470588234, '13'], [13.440677966101696, '10'], [13.233644859813085, '14'], [16.796296296296298, '16'], [7.985294117647059, '23'], [9.41095890410959, '12'], [11.46, '17'], [38.5948275862069, '15'], [16.009174311926607, '21'], [21.525, '20'], [23.810344827586206, '02'], [13.20183486238532, '18'], [7.796296296296297, '03'], [10.08695652173913, '05'], [10.8, '19'], [11.383333333333333, '01'], [6.746478873239437, '22'], [10.25, '08'], [7.170212765957447, '04'], [8.127272727272727, '00'], [9.022727272727273, '06'], [7.852941176470588, '07'], [11.051724137931034, '11']]\n",
            "Top 5 Hours for Ask Posts Comments\n",
            "15: 38.59 average comments per post\n",
            "02: 23.81 average comments per post\n",
            "20: 21.52 average comments per post\n",
            "16: 16.80 average comments per post\n",
            "21: 16.01 average comments per post\n"
          ]
        }
      ],
      "source": [
        "# create an empty list\n",
        "swap_avg_by_hour = []\n",
        "for row in avg_by_hour:\n",
        "    swap_avg_by_hour.append([row[1],row[0]])\n",
        "print(swap_avg_by_hour)\n",
        "sorted_swap = sorted(swap_avg_by_hour, reverse=True)\n",
        "print(\"Top 5 Hours for Ask Posts Comments\")\n",
        "for row in sorted_swap[0:5]:\n",
        "    hour_time = dt.datetime.strptime(row[1],\"%H\")\n",
        "    hour_string = hour_time.strftime(\"%H\")\n",
        "    final_sent = '{hour}: {avg:.2f} average comments per post'.format(hour=hour_string,avg=row[0])\n",
        "    print(final_sent)"
      ]
    },
    {
      "cell_type": "markdown",
      "metadata": {
        "id": "EHdE9WHu5yDU"
      },
      "source": [
        "# Final Conclusion\n",
        "From the dataset I can see that hour 15 is the top hour for average number of comments per post followed by hours 13 and 12. Based on the documentation of the dataset I know that the time is in Eastern Standard Time in the US. Based on my findings I would predict that if you were to create a post between the hours of 12-3pm EST you have a higher chance of receiving comments on your ask post."
      ]
    },
    {
      "cell_type": "markdown",
      "metadata": {
        "id": "nnv5JU-25yDV"
      },
      "source": [
        "# Potential Next Steps\n",
        "If I wanted to expand on this project, some things I could do are:\n",
        "- change the time zone for the top hours to post Ask HN posts\n",
        "- determine if show or ask posts receive more points on average\n",
        "- determine if posts created at a certain are more likely to receive points\n",
        "- compare my results to the average number of comments and points on other posts."
      ]
    },
    {
      "cell_type": "markdown",
      "source": [
        "## Changing the Time Zone\n",
        "Now I want to use the datetime method to convert the hours from our busiest times to times from Eastern Standard Time. I want to do this so that I can better understand time what times I should post an Ask HN post to get the most comments."
      ],
      "metadata": {
        "id": "ResCNUp26Dva"
      }
    },
    {
      "cell_type": "code",
      "source": [
        "template = \"{hour}: {comments:.2f} average comments per post\"\n",
        "for row in sorted_swap[:5]:\n",
        "    hour = row[1]\n",
        "    comment = row[0]\n",
        "    hour_dt = dt.datetime.strptime(hour, \"%H\")\n",
        "    hour_str = hour_dt.strftime(\"%I:%M %p\")\n",
        "    final_str = template.format(hour=hour_str, comments=comment)\n",
        "    print(final_str)"
      ],
      "metadata": {
        "id": "-GbBpJMx6uSa",
        "outputId": "bb7ac580-540d-4d0c-fefc-e033edee3d80",
        "colab": {
          "base_uri": "https://localhost:8080/"
        }
      },
      "execution_count": 11,
      "outputs": [
        {
          "output_type": "stream",
          "name": "stdout",
          "text": [
            "03:00 PM: 38.59 average comments per post\n",
            "02:00 AM: 23.81 average comments per post\n",
            "08:00 PM: 21.52 average comments per post\n",
            "04:00 PM: 16.80 average comments per post\n",
            "09:00 PM: 16.01 average comments per post\n"
          ]
        }
      ]
    },
    {
      "cell_type": "markdown",
      "source": [
        "## Determining which posts receive more points\n",
        "First I want to use the lists I created earlier for ask, show and other posts. I need to loop through them to gather information about number of points and determine which set of posts receive the most points on average."
      ],
      "metadata": {
        "id": "RJZs2Moq7BCv"
      }
    },
    {
      "cell_type": "code",
      "source": [
        "total_ask_points = 0\n",
        "for row in ask_posts:\n",
        "    points = row[3]\n",
        "    points_int = int(points)\n",
        "    total_ask_points += points_int\n",
        "    \n",
        "avg_ask_points = total_ask_points / len(ask_posts)\n",
        "print(avg_ask_points)\n",
        "\n",
        "total_show_points = 0\n",
        "for row in show_posts:\n",
        "    points = row[3]\n",
        "    points_int = int(points)\n",
        "    total_show_points += points_int\n",
        "\n",
        "avg_show_points = total_show_points / len(show_posts)\n",
        "print(avg_show_points)\n",
        "\n",
        "total_other_points = 0\n",
        "for row in other_posts:\n",
        "  points = row[3]\n",
        "  points_int = int(points)\n",
        "  total_other_points += points_int\n",
        "\n",
        "avg_other_points = total_other_points / len(other_posts)\n",
        "print(avg_ask_points)"
      ],
      "metadata": {
        "id": "esB6RatF7OMz",
        "outputId": "4ebe3928-82aa-4be9-d900-eb578fbbfe1b",
        "colab": {
          "base_uri": "https://localhost:8080/"
        }
      },
      "execution_count": 12,
      "outputs": [
        {
          "output_type": "stream",
          "name": "stdout",
          "text": [
            "15.061926605504587\n",
            "27.555077452667813\n",
            "15.061926605504587\n"
          ]
        }
      ]
    },
    {
      "cell_type": "markdown",
      "source": [
        "From this calculation I can see that Show HN posts receive the most points per post. So now I would like to determine at which hours show posts are more likely to receive points."
      ],
      "metadata": {
        "id": "r-abB8rT7qNa"
      }
    },
    {
      "cell_type": "code",
      "source": [
        "import datetime as dt\n",
        "result_list_show = []\n",
        "for row in show_posts:\n",
        "    created = row[6]\n",
        "    points = row[3]\n",
        "    points_int = int(points)\n",
        "    list_elem_s = [created, points_int]\n",
        "    result_list_show.append(list_elem_s)\n",
        "\n",
        "show_counts_by_hour = {}\n",
        "points_by_hour = {}\n",
        "for row in result_list_show:\n",
        "    date = row[0]\n",
        "    date_obj = dt.datetime.strptime(date, \"%m/%d/%Y %H:%M\")\n",
        "    hour = date_obj.strftime(\"%H\")\n",
        "    if hour not in show_counts_by_hour:\n",
        "        show_counts_by_hour[hour] = 1\n",
        "        points_by_hour[hour] = row[1]\n",
        "    else:\n",
        "        show_counts_by_hour[hour] += 1\n",
        "        points_by_hour[hour] += row[1]\n",
        "\n",
        "print(show_counts_by_hour)\n",
        "print(points_by_hour)"
      ],
      "metadata": {
        "id": "30-SURBb76Nj",
        "outputId": "23c0940a-c045-4127-bfa0-a8f132664e37",
        "colab": {
          "base_uri": "https://localhost:8080/"
        }
      },
      "execution_count": 13,
      "outputs": [
        {
          "output_type": "stream",
          "name": "stdout",
          "text": [
            "{'14': 86, '22': 46, '18': 61, '07': 26, '20': 60, '05': 19, '16': 93, '19': 55, '15': 78, '03': 27, '17': 93, '06': 16, '02': 30, '13': 99, '08': 34, '21': 47, '04': 26, '11': 44, '12': 61, '23': 36, '09': 30, '01': 28, '10': 36, '00': 31}\n",
            "{'14': 2187, '22': 1856, '18': 2215, '07': 494, '20': 1819, '05': 104, '16': 2634, '19': 1702, '15': 2228, '03': 679, '17': 2521, '06': 375, '02': 340, '13': 2438, '08': 519, '21': 866, '04': 386, '11': 1480, '12': 2543, '23': 1526, '09': 553, '01': 700, '10': 681, '00': 1173}\n"
          ]
        }
      ]
    },
    {
      "cell_type": "markdown",
      "source": [
        "Now I want to use these two new dictionaries for finding the average points per hour.\n",
        "\n",
        "- show_counts_by_hour: containing the number of show posts created each hour\n",
        "- points_by_hour: containing the corresponding number of points per hour"
      ],
      "metadata": {
        "id": "6oWZ7aBs8AWq"
      }
    },
    {
      "cell_type": "code",
      "source": [
        "avgpoints_by_hour = []\n",
        "for points in points_by_hour:\n",
        "    avgpoints_by_hour.append([points, points_by_hour[points]/show_counts_by_hour[points]])\n",
        "    \n",
        "\n",
        "swap_avgpoints_by_hour = []\n",
        "for row in avgpoints_by_hour:\n",
        "    swap_avgpoints_by_hour.append([row[1], row[0]])\n",
        "\n",
        "sorted_swap = sorted(swap_avgpoints_by_hour, reverse = True)\n",
        "print(\"Top 5 hours for Show HN post points\")\n",
        "for row in sorted_swap[:5]:\n",
        "    hour = row[1]\n",
        "    comment = row[0]\n",
        "    hour_dt = dt.datetime.strptime(hour, \"%H\")\n",
        "    hour_str = hour_dt.strftime(\"%I:%M %p\")\n",
        "    final_str = template.format(hour=hour_str, comments=comment)\n",
        "    print(final_str)"
      ],
      "metadata": {
        "id": "gMvpJXOV8IkR",
        "outputId": "e0b9a1b8-8f2d-415d-d023-190ad79ca4f0",
        "colab": {
          "base_uri": "https://localhost:8080/"
        }
      },
      "execution_count": 17,
      "outputs": [
        {
          "output_type": "stream",
          "name": "stdout",
          "text": [
            "Top 5 hours for Show HN post points\n",
            "11:00 PM: 42.39 average comments per post\n",
            "12:00 PM: 41.69 average comments per post\n",
            "10:00 PM: 40.35 average comments per post\n",
            "12:00 AM: 37.84 average comments per post\n",
            "06:00 PM: 36.31 average comments per post\n"
          ]
        }
      ]
    },
    {
      "cell_type": "markdown",
      "source": [
        "## Comparing Results\n",
        "Now that I've calculated the average points for each type of posts. I need to calculate the average amount of comments on other posts. Create lists for each set of averages before combining them into a list of lists."
      ],
      "metadata": {
        "id": "8XhoV6YY8v-L"
      }
    },
    {
      "cell_type": "code",
      "source": [
        "total_other_comments = 0\n",
        "avg_other_posts = []\n",
        "avg_ask_posts = []\n",
        "avg_show_posts = []\n",
        "avg_list = []\n",
        "for row in other_posts:\n",
        "    comments = row[4]\n",
        "    comments_int = int(comments)\n",
        "    total_other_comments += comments_int\n",
        "    \n",
        "avg_other_comments = total_other_comments / len(other_posts)\n",
        "\n",
        "avg_other_posts = [avg_other_comments, avg_other_points]\n",
        "avg_ask_posts = [avg_ask_comments, avg_ask_points]\n",
        "avg_show_posts = [avg_show_comments, avg_show_points]\n",
        "avg_list.append(avg_other_posts)\n",
        "avg_list.append(avg_ask_posts)\n",
        "avg_list.append(avg_show_posts)\n",
        "print(avg_list)"
      ],
      "metadata": {
        "id": "uY1cgT5J8_YD",
        "outputId": "bda4d10b-e225-4e10-b434-6ce8a64ba1cd",
        "colab": {
          "base_uri": "https://localhost:8080/"
        }
      },
      "execution_count": 22,
      "outputs": [
        {
          "output_type": "stream",
          "name": "stdout",
          "text": [
            "[[26.8730371059672, 55.4067698034198], [14.038417431192661, 15.061926605504587], [10.31669535283993, 27.555077452667813]]\n"
          ]
        }
      ]
    },
    {
      "cell_type": "markdown",
      "source": [
        "## Additional Analysis\n",
        "Now that I have all the averages togethe, I can deduce from my calculations that other posts that do not include Show HN or Ask HN have higher comments and higher points. Once the other posts are excluded we can see that Ask HN has the second most comments and the least amount of points per post. Lastly Show HN have the least amount of comments per post but the second most amount of points."
      ],
      "metadata": {
        "id": "0mcUIJa7-cpM"
      }
    }
  ],
  "metadata": {
    "kernelspec": {
      "display_name": "Python 3",
      "language": "python",
      "name": "python3"
    },
    "language_info": {
      "codemirror_mode": {
        "name": "ipython",
        "version": 3
      },
      "file_extension": ".py",
      "mimetype": "text/x-python",
      "name": "python",
      "nbconvert_exporter": "python",
      "pygments_lexer": "ipython3",
      "version": "3.7.4"
    },
    "colab": {
      "name": "HNExploration.ipynb",
      "provenance": []
    }
  },
  "nbformat": 4,
  "nbformat_minor": 0
}